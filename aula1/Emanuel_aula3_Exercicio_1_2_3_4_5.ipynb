{
  "nbformat": 4,
  "nbformat_minor": 0,
  "metadata": {
    "colab": {
      "name": "Untitled4.ipynb",
      "provenance": [],
      "collapsed_sections": [],
      "authorship_tag": "ABX9TyOQ/c5cQ/S9InQSn6wPKbrg",
      "include_colab_link": true
    },
    "kernelspec": {
      "name": "python3",
      "display_name": "Python 3"
    }
  },
  "cells": [
    {
      "cell_type": "markdown",
      "metadata": {
        "id": "view-in-github",
        "colab_type": "text"
      },
      "source": [
        "<a href=\"https://colab.research.google.com/github/EmanuelSertorio/Aulas_py_2020/blob/master/aula1/Emanuel_aula3_Exercicio_1_2_3_4_5.ipynb\" target=\"_parent\"><img src=\"https://colab.research.google.com/assets/colab-badge.svg\" alt=\"Open In Colab\"/></a>"
      ]
    },
    {
      "cell_type": "code",
      "metadata": {
        "id": "y8Iumv4bDBUR",
        "outputId": "506c74a0-0b0b-4ff9-c49f-30ffc60d6cbe",
        "colab": {
          "base_uri": "https://localhost:8080/",
          "height": 34
        }
      },
      "source": [
        "def palavra(p):\n",
        "  print(p, type(p))\n",
        "\n",
        "palavra('Hello World')"
      ],
      "execution_count": 99,
      "outputs": [
        {
          "output_type": "stream",
          "text": [
            "Hello World <class 'str'>\n"
          ],
          "name": "stdout"
        }
      ]
    },
    {
      "cell_type": "code",
      "metadata": {
        "id": "zafhZB_aKztK",
        "outputId": "9faa5076-a188-4ed5-8cf1-f54e13b9be6f",
        "colab": {
          "base_uri": "https://localhost:8080/",
          "height": 34
        }
      },
      "source": [
        "x = 10\n",
        "y = 5\n",
        "t = 0\n",
        "T = 2\n",
        "\n",
        "def velocidade():\n",
        "  v = (x-y)/(T-t)\n",
        "  print(\"A velocidade média e:\", v, \"m/s\")\n",
        "velocidade()\n",
        "\n"
      ],
      "execution_count": 35,
      "outputs": [
        {
          "output_type": "stream",
          "text": [
            "A velocidade média e: 2.5 m/s\n"
          ],
          "name": "stdout"
        }
      ]
    },
    {
      "cell_type": "code",
      "metadata": {
        "id": "0uY4tXHuM9Nl",
        "outputId": "079b0d69-cd1e-4503-d89f-419acd44755f",
        "colab": {
          "base_uri": "https://localhost:8080/",
          "height": 34
        }
      },
      "source": [
        "#Queda Livro\n",
        "\n",
        "\n",
        "\n",
        "def mrua(a, v_o, t):\n",
        "  v = v_o + (a*t)\n",
        "  print(\"A velocidade no mrua é: \", v, \"m/s\")\n",
        "mrua(10, 0, 10)"
      ],
      "execution_count": 223,
      "outputs": [
        {
          "output_type": "stream",
          "text": [
            "A velocidade no mrua é:  100 m/s\n"
          ],
          "name": "stdout"
        }
      ]
    },
    {
      "cell_type": "code",
      "metadata": {
        "id": "tv_xQIdeSBuq",
        "outputId": "1739ee58-43c6-4321-d337-cd05786c8881",
        "colab": {
          "base_uri": "https://localhost:8080/",
          "height": 34
        }
      },
      "source": [
        "import math\n",
        "\n",
        "\n",
        "\n",
        "def ang_zenital(h, d):\n",
        "  theta_radian = math.atan(h/d)\n",
        "  theta = math.degrees(theta_radian)\n",
        "  print(theta, \"°\")\n",
        "ang_zenital(5, 0.5)\n",
        "\n"
      ],
      "execution_count": 225,
      "outputs": [
        {
          "output_type": "stream",
          "text": [
            "84.28940686250037 °\n"
          ],
          "name": "stdout"
        }
      ]
    },
    {
      "cell_type": "code",
      "metadata": {
        "id": "CpKisJimToIP",
        "outputId": "99003409-b55f-45e1-b650-3ac505971a8d",
        "colab": {
          "base_uri": "https://localhost:8080/",
          "height": 204
        }
      },
      "source": [
        "print('--------------------------------- Milha para Metro ---------------------------')\n",
        "def milha_metro(k):\n",
        "  mi_metro = k*1610\n",
        "  print(mi_metro)\n",
        "milha_metro(10)\n",
        "print('--------------------------------- Metro Para Milha ---------------------------')\n",
        "def metro_milha(l):\n",
        "  m_milha = l/1610\n",
        "  print(m_milha)\n",
        "metro_milha(1)\n",
        "print('--------------------------------- Hora para Segundo ---------------------------')\n",
        "def h_s(n):\n",
        "  hora_segundo = n/3600\n",
        "  print(hora_segundo)\n",
        "h_s(1)\n",
        "print('--------------------------------- Segunda Para Hora ---------------------------')\n",
        "def s_h(m):\n",
        "  segundo_hora = m*3600\n",
        "  print(segundo_hora)\n",
        "s_h(1)\n",
        "\n",
        "print('--------------------------------- Velocidade Média e Tempo Médio---------------------------')\n",
        "\n",
        "\n",
        "def milha_km(z):\n",
        "  milhaa_km = z*1.61\n",
        "  return milhaa_km\n",
        "\n",
        "resultado = milha_km(4)\n",
        "\n",
        "def m_h(t):\n",
        "  mm_hh = t/60\n",
        "  return mm_hh\n",
        "resultado2 = m_h(30)\n",
        "\n",
        "def velocidade_media():\n",
        "  vv_mm = resultado/resultado2\n",
        "  return vv_mm\n",
        "\n",
        "def tempo_medio():\n",
        "  tt_mm = resultado2/resultado\n",
        "  return tt_mm\n",
        "\n",
        "vvv_mmm = velocidade_media()\n",
        "ttt_mmm = tempo_medio()\n",
        "print(vvv_mmm, 'km/h')\n",
        "print(ttt_mmm, 'h/km')\n",
        "    \n",
        "\n",
        "    \n",
        "\n",
        "\n",
        "\n",
        "\n",
        "\n",
        "\n",
        "\n",
        "\n",
        "\n"
      ],
      "execution_count": 213,
      "outputs": [
        {
          "output_type": "stream",
          "text": [
            "--------------------------------- Milha para Metro ---------------------------\n",
            "16100\n",
            "--------------------------------- Metro Para Milha ---------------------------\n",
            "0.0006211180124223603\n",
            "--------------------------------- Hora para Segundo ---------------------------\n",
            "0.0002777777777777778\n",
            "--------------------------------- Segunda Para Hora ---------------------------\n",
            "3600\n",
            "--------------------------------- Velocidade Média e Tempo Médio---------------------------\n",
            "12.88 km/h\n",
            "0.07763975155279502 h/km\n"
          ],
          "name": "stdout"
        }
      ]
    },
    {
      "cell_type": "code",
      "metadata": {
        "id": "-BBRbtX_7TrL",
        "outputId": "6436f6fa-0973-40dd-a04b-aeaeeb6dd049",
        "colab": {
          "base_uri": "https://localhost:8080/",
          "height": 119
        }
      },
      "source": [
        "import math\n",
        "print('--------------------------------- volume da Esfera ---------------------------')\n",
        "\n",
        "def volume_da_esfera(raio):\n",
        "  vol_esfera =  (4*math.pi*raio**3)/3\n",
        "  print(vol_esfera)\n",
        "volume_da_esfera(5)\n",
        "\n",
        "\n",
        "print('--------------------------------- IMC ---------------------------')\n",
        "\n",
        "def imc(massa, altura):\n",
        "  imc1 = massa/math.pow(altura, 2)\n",
        "  print(imc1, \"km/m²\")\n",
        "imc(11, 0.7)\n",
        "\n",
        "print('--------------------------------- Distância máximos de difração ---------------------------')\n",
        "\n",
        "def deltay(lambdaa, D, d ):\n",
        "  deltaay = (lambdaa*D)/d\n",
        "  print(deltaay)\n",
        "deltay((632.8)/math.pow(10,9), 1.98, 0.0025)"
      ],
      "execution_count": 227,
      "outputs": [
        {
          "output_type": "stream",
          "text": [
            "--------------------------------- volume da Esfera ---------------------------\n",
            "523.5987755982989\n",
            "--------------------------------- IMC ---------------------------\n",
            "22.44897959183674 km/m²\n",
            "--------------------------------- Distância máximos de difração ---------------------------\n",
            "0.0005011776\n"
          ],
          "name": "stdout"
        }
      ]
    }
  ]
}