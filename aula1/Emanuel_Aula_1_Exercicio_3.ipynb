{
  "nbformat": 4,
  "nbformat_minor": 0,
  "metadata": {
    "colab": {
      "name": "aula1.ipynb",
      "provenance": [],
      "authorship_tag": "ABX9TyPVseOLzD9yUeWLnWMzM3yD",
      "include_colab_link": true
    },
    "kernelspec": {
      "name": "python3",
      "display_name": "Python 3"
    }
  },
  "cells": [
    {
      "cell_type": "markdown",
      "metadata": {
        "id": "view-in-github",
        "colab_type": "text"
      },
      "source": [
        "<a href=\"https://colab.research.google.com/github/EmanuelSertorio/Aulas_py_2020/blob/master/aula1/Emanuel_Aula_1_Exercicio_3.ipynb\" target=\"_parent\"><img src=\"https://colab.research.google.com/assets/colab-badge.svg\" alt=\"Open In Colab\"/></a>"
      ]
    },
    {
      "cell_type": "code",
      "metadata": {
        "id": "Ep9albZuWcwC",
        "colab_type": "code",
        "colab": {
          "base_uri": "https://localhost:8080/",
          "height": 51
        },
        "outputId": "1d6211d1-73e8-4b93-cd40-63ba18f35474"
      },
      "source": [
        "\n",
        "\n",
        "t = 43*60 # tempo em segundos\n",
        "s = 10 # espaço em km\n",
        "\n",
        "tt = t + 30 # tempo total em segundos\n",
        "\n",
        "sm = s/(1.61) # espaço em milhas\n",
        "\n",
        "tm = tt/sm # tempo médio\n",
        "\n",
        "vms = (sm/tt) * 3600  # velocidade média em milhas por hora\n",
        "\n",
        "\n",
        "\n",
        "print(\"O tempo médio é: \", tm, \"s\")\n",
        "print(\"A velocidade média é: \", vms, \"milhas/h\")\n",
        "\n",
        "\n",
        "\n"
      ],
      "execution_count": 10,
      "outputs": [
        {
          "output_type": "stream",
          "text": [
            "O tempo médio é:  420.21000000000004 s\n",
            "A velocidade média é:  8.567144998929106 milhas/h\n"
          ],
          "name": "stdout"
        }
      ]
    }
  ]
}