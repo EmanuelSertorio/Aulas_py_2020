{
  "nbformat": 4,
  "nbformat_minor": 0,
  "metadata": {
    "colab": {
      "name": "Untitled1.ipynb",
      "provenance": [],
      "authorship_tag": "ABX9TyM5SGfZneXU7kGuELISB7sb",
      "include_colab_link": true
    },
    "kernelspec": {
      "name": "python3",
      "display_name": "Python 3"
    }
  },
  "cells": [
    {
      "cell_type": "markdown",
      "metadata": {
        "id": "view-in-github",
        "colab_type": "text"
      },
      "source": [
        "<a href=\"https://colab.research.google.com/github/EmanuelSertorio/Aulas_py_2020/blob/master/aula1/twiki/emanuel_aula_1_exercicios_twiki_2_3_4_5_6.ipynb\" target=\"_parent\"><img src=\"https://colab.research.google.com/assets/colab-badge.svg\" alt=\"Open In Colab\"/></a>"
      ]
    },
    {
      "cell_type": "code",
      "metadata": {
        "id": "CcwTDK_LUPfs",
        "colab_type": "code",
        "colab": {
          "base_uri": "https://localhost:8080/",
          "height": 34
        },
        "outputId": "663ee262-22b4-4865-891d-af3ef0d6c921"
      },
      "source": [
        "t = 3 # tempo segundos\n",
        "v = 343 # velocidade m/s\n",
        "s = v*t #Distância \n",
        "\n",
        "print(\"A distância é:\", s, \"m\")\n",
        "\n"
      ],
      "execution_count": 1,
      "outputs": [
        {
          "output_type": "stream",
          "text": [
            "A distância é: 1029 m\n"
          ],
          "name": "stdout"
        }
      ]
    },
    {
      "cell_type": "code",
      "metadata": {
        "id": "qxhhvV3lUVHC",
        "colab_type": "code",
        "colab": {
          "base_uri": "https://localhost:8080/",
          "height": 34
        },
        "outputId": "1224e1c8-6c6d-4f08-eb83-5b61d4cb1e1c"
      },
      "source": [
        "import math\n",
        "\n",
        "a = 3\n",
        "b = -4\n",
        "c = -10\n",
        "\n",
        "d = math.pow(b,2) - 4*a*c #Delta\n",
        "\n",
        "x_1 = (-b + math.sqrt(d))/(2*a)\n",
        "x_2 = (-b - math.sqrt(d))/(2*a)\n",
        "\n",
        "\n",
        "print(\"As raízes são:\" ,round(x_1,3), \"e\", round(x_2,3))"
      ],
      "execution_count": 2,
      "outputs": [
        {
          "output_type": "stream",
          "text": [
            "As raízes são: 2.61 e -1.277\n"
          ],
          "name": "stdout"
        }
      ]
    },
    {
      "cell_type": "code",
      "metadata": {
        "id": "rGKA1wEPUX69",
        "colab_type": "code",
        "colab": {
          "base_uri": "https://localhost:8080/",
          "height": 34
        },
        "outputId": "49e89360-80d2-4b76-cf4b-793463db590f"
      },
      "source": [
        "import math\n",
        "\n",
        "h_p = 5 # altura poste metros\n",
        "h_s = 0.5 # medida sombra metros\n",
        "\n",
        "theta = math.atan(h_p/h_s) # math.atan retorna o valor e radianos\n",
        "\n",
        "print(\"O ângulo em graus é:\", math.degrees(theta),\"°\") # math.degress retorna o valor em graus\n"
      ],
      "execution_count": 3,
      "outputs": [
        {
          "output_type": "stream",
          "text": [
            "O ângulo em graus é: 84.28940686250037 °\n"
          ],
          "name": "stdout"
        }
      ]
    },
    {
      "cell_type": "code",
      "metadata": {
        "id": "95uWD1CgUecS",
        "colab_type": "code",
        "colab": {
          "base_uri": "https://localhost:8080/",
          "height": 51
        },
        "outputId": "8314ffd9-0a1e-4706-a75f-fa645a184d86"
      },
      "source": [
        "import math\n",
        "\n",
        "h = 1.70 # minha altura metros\n",
        "m = 55 # minha massa em kg\n",
        "\n",
        "h_b = 0.7 # altura bebê\n",
        "m_b = 11 # massa bebê kg; \n",
        "\n",
        "\n",
        "imc = m/math.pow(h,2)\n",
        "imc_b = m_b/math.pow(h_b,2)\n",
        "\n",
        "print(\"O meu imc é:\", imc, \"kg/m²\")\n",
        "print(\"O imc do bebê é:\", imc_b, \"kg/m²\")"
      ],
      "execution_count": 4,
      "outputs": [
        {
          "output_type": "stream",
          "text": [
            "O meu imc é: 19.031141868512112 kg/m²\n",
            "O imc do bebê é: 22.44897959183674 kg/m²\n"
          ],
          "name": "stdout"
        }
      ]
    },
    {
      "cell_type": "code",
      "metadata": {
        "id": "sd4I_-cHUhrO",
        "colab_type": "code",
        "colab": {
          "base_uri": "https://localhost:8080/",
          "height": 51
        },
        "outputId": "9e50cdd2-aa3f-4e25-b246-d0ef89a4d7e7"
      },
      "source": [
        "import math\n",
        "\n",
        "g = 9.8 #aceleração m/s²\n",
        "h = 3 #altura m\n",
        "\n",
        "v = math.sqrt(2*g*h)\n",
        "\n",
        "t = math.sqrt(2*h/g)\n",
        "\n",
        "print(\"A velocidade de queda é:\", round(v,3), \"m/s\")\n",
        "print(\"O temepo de queda é:\", round(t,3), \"s\")"
      ],
      "execution_count": 5,
      "outputs": [
        {
          "output_type": "stream",
          "text": [
            "A velocidade de queda é: 7.668 m/s\n",
            "O temepo de queda é: 0.782 s\n"
          ],
          "name": "stdout"
        }
      ]
    }
  ]
}