{
  "nbformat": 4,
  "nbformat_minor": 0,
  "metadata": {
    "colab": {
      "name": "Untitled2.ipynb",
      "provenance": [],
      "authorship_tag": "ABX9TyOwzeYXF/qWPPrNQ6zgrguD",
      "include_colab_link": true
    },
    "kernelspec": {
      "name": "python3",
      "display_name": "Python 3"
    }
  },
  "cells": [
    {
      "cell_type": "markdown",
      "metadata": {
        "id": "view-in-github",
        "colab_type": "text"
      },
      "source": [
        "<a href=\"https://colab.research.google.com/github/EmanuelSertorio/Aulas_py_2020/blob/master/aula1/emanuel_aula_2_exercicios_1_2_3_4.ipynb\" target=\"_parent\"><img src=\"https://colab.research.google.com/assets/colab-badge.svg\" alt=\"Open In Colab\"/></a>"
      ]
    },
    {
      "cell_type": "code",
      "metadata": {
        "id": "_YfeE5O1aTk4",
        "colab_type": "code",
        "colab": {
          "base_uri": "https://localhost:8080/",
          "height": 102
        },
        "outputId": "78bec4fd-1f9e-4582-ad9d-ec4b55396340"
      },
      "source": [
        "largura = 17\n",
        "altura = 12\n",
        "delimitador = \".\"\n",
        "\n",
        "a = largura/2 #largura/2 = 8.5, tipo: float\n",
        "b = largura/2.0 #largura/2.0 = 8.5, tipo: float\n",
        "c = altura/3 #altura/3 = 4, tipo: int\n",
        "d = largura/2 + (largura/2.0)*5 #argura/2 + (largura/2.0)*5 = 51, tipo: int\n",
        "e = delimitador*5 #delimitador*5 = \".....\", tipo: string\n",
        "\n",
        "print(\"a:\",a)\n",
        "print(\"b:\",b)\n",
        "print(\"c:\",c)\n",
        "print(\"d:\",d)\n",
        "print(\"e:\",e)"
      ],
      "execution_count": 7,
      "outputs": [
        {
          "output_type": "stream",
          "text": [
            "a: 8.5\n",
            "b: 8.5\n",
            "c: 4.0\n",
            "d: 51.0\n",
            "e: .....\n"
          ],
          "name": "stdout"
        }
      ]
    },
    {
      "cell_type": "code",
      "metadata": {
        "id": "31_Rq_5peKzo",
        "colab_type": "code",
        "colab": {
          "base_uri": "https://localhost:8080/",
          "height": 34
        },
        "outputId": "93936c0b-849e-4dec-8000-59c229401629"
      },
      "source": [
        "import math\n",
        "\n",
        "r = 5 \n",
        "V = (4/3)*math.pi*math.pow(r,3)\n",
        "\n",
        "print(\"O volume é:\", round(V,3))"
      ],
      "execution_count": 10,
      "outputs": [
        {
          "output_type": "stream",
          "text": [
            "O volume é: 523.599\n"
          ],
          "name": "stdout"
        }
      ]
    },
    {
      "cell_type": "code",
      "metadata": {
        "id": "xv_O0NsOfTbZ",
        "colab_type": "code",
        "colab": {
          "base_uri": "https://localhost:8080/",
          "height": 34
        },
        "outputId": "05506cce-894f-4f27-b383-ea0a65954a5c"
      },
      "source": [
        "import math\n",
        "\n",
        "l = 24.95 # valor livro em reais\n",
        "l_40 = 24.95*0.6 # Valor do livro com disconto de 40%\n",
        "\n",
        "v_l_60 = l_40*60 # valor dos livros sem o frete\n",
        "\n",
        "e_1 = 3\n",
        "e_2_mais = 0.75\n",
        "\n",
        "valor_total = v_l_60 + 3 + (0.75*59)\n",
        "\n",
        "print(\"O valor total é:\", round(valor_total,3), \"R$\")"
      ],
      "execution_count": 14,
      "outputs": [
        {
          "output_type": "stream",
          "text": [
            "O valor total é: 945.45 R$\n"
          ],
          "name": "stdout"
        }
      ]
    },
    {
      "cell_type": "code",
      "metadata": {
        "id": "UG0oxO9ohYRl",
        "colab_type": "code",
        "colab": {
          "base_uri": "https://localhost:8080/",
          "height": 34
        },
        "outputId": "8503e6f7-cab2-4145-eada-9ed5e9ede7e6"
      },
      "source": [
        "import math\n",
        "l = 632.8/math.pow(10,9) #comprimento de onda em metros\n",
        "D = 1.98 # Distância em metros\n",
        "d = 0.250/1000 #espaçamento entre as fendas em metros\n",
        "\n",
        "delta_y = (l*D)/d \n",
        "print(\"A distância entre dois máximos consecutivos é:\", delta_y, \"m\")"
      ],
      "execution_count": 18,
      "outputs": [
        {
          "output_type": "stream",
          "text": [
            "A distância entre dois máximos consecutivos é: 0.005011776 m\n"
          ],
          "name": "stdout"
        }
      ]
    }
  ]
}