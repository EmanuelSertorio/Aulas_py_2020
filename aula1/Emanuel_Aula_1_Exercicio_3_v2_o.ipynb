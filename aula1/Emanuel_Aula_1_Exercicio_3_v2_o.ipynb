{
  "nbformat": 4,
  "nbformat_minor": 0,
  "metadata": {
    "colab": {
      "name": "aula1.ipynb",
      "provenance": [],
      "authorship_tag": "ABX9TyPjHISt6c4dQiTEdIdaRPR5",
      "include_colab_link": true
    },
    "kernelspec": {
      "name": "python3",
      "display_name": "Python 3"
    }
  },
  "cells": [
    {
      "cell_type": "markdown",
      "metadata": {
        "id": "view-in-github",
        "colab_type": "text"
      },
      "source": [
        "<a href=\"https://colab.research.google.com/github/EmanuelSertorio/Aulas_py_2020/blob/master/aula1/Emanuel_Aula_1_Exercicio_3_v2_o.ipynb\" target=\"_parent\"><img src=\"https://colab.research.google.com/assets/colab-badge.svg\" alt=\"Open In Colab\"/></a>"
      ]
    },
    {
      "cell_type": "code",
      "metadata": {
        "id": "Ep9albZuWcwC",
        "colab_type": "code",
        "colab": {
          "base_uri": "https://localhost:8080/",
          "height": 51
        },
        "outputId": "62e756fb-c72d-469d-e563-86540ab21a0f"
      },
      "source": [
        "t = ((43*60) + 30) / (3600) #Tempo em Horas\n",
        "s = 10/(1.61) # Espaço em milhas\n",
        "\n",
        "tm = t/s # Tempo médio\n",
        "\n",
        "vm = s/t\n",
        "\n",
        "print(\"O tempo médio é:\", round(tm,3), \"h\")\n",
        "print(\"A velocidade média é:\", round(vm,3), \"milhas/h\")\n"
      ],
      "execution_count": 20,
      "outputs": [
        {
          "output_type": "stream",
          "text": [
            "O tempo médio é: 0.117 h\n",
            "A velocidade média é: 8.567 milhas/h\n"
          ],
          "name": "stdout"
        }
      ]
    }
  ]
}